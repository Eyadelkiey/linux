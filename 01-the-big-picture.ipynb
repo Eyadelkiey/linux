{
 "cells": [
  {
   "cell_type": "markdown",
   "metadata": {},
   "source": [
    "![images/LINUX-LOGO.png](images/LINUX-LOGO.png)"
   ]
  },
  {
   "cell_type": "markdown",
   "metadata": {},
   "source": [
    "**[Linux Wikipedia](https://en.wikipedia.org/wiki/Linux)**"
   ]
  },
  {
   "cell_type": "markdown",
   "metadata": {},
   "source": [
    "linux is a family of open source Unix-like operating systems based on the Linux kernel, an operating system kernel first released on September 17, 1991, by Linus Torvalds. Linux is typically packaged in a Linux distribution."
   ]
  },
  {
   "cell_type": "code",
   "execution_count": null,
   "metadata": {
    "vscode": {
     "languageId": "plaintext"
    }
   },
   "outputs": [],
   "source": [
    "- Unix was developed at MIT (Bell Labs and GE) in the mid 60s and was published in the earyl 70s\n",
    "- First written in Assembly language then was rewritten in C (Dennis Ritchie)\n",
    "- In 1983 Richard Stallman announced the GNU project\n",
    "- in 1991 Linus Torvalds released Linux Kernel as free software under GNU GPL\n",
    "- GNU and Free Software Foundation added other free tools to the kernel \n",
    "- The earliest distributions were Yggdrasil and Slackware"
   ]
  },
  {
   "cell_type": "markdown",
   "metadata": {},
   "source": [
    "![Linus Torvalds](images/linus-torvads.jpeg)"
   ]
  },
  {
   "cell_type": "markdown",
   "metadata": {},
   "source": [
    "- [Linux Distros](https://en.wikipedia.org/wiki/Linux_distribution)"
   ]
  },
  {
   "cell_type": "markdown",
   "metadata": {},
   "source": [
    "# Linux Essentials"
   ]
  },
  {
   "cell_type": "markdown",
   "metadata": {},
   "source": [
    "## Installing Linux"
   ]
  },
  {
   "cell_type": "markdown",
   "metadata": {},
   "source": [
    "**[Redhat Enterprise](https://developers.redhat.com/products/rhel/overview)**"
   ]
  },
  {
   "cell_type": "markdown",
   "metadata": {},
   "source": [
    "**[CentOS Linux](https://www.centos.org/download/)**"
   ]
  },
  {
   "cell_type": "markdown",
   "metadata": {},
   "source": [
    "**[Ubuntu](https://ubuntu.com/)**"
   ]
  },
  {
   "cell_type": "markdown",
   "metadata": {},
   "source": [
    "## Essential Commands"
   ]
  },
  {
   "cell_type": "markdown",
   "metadata": {},
   "source": [
    "`echo`    - display a line of text  \n",
    "`whoami`  - print effective userid  \n",
    "`ls`      - list directory contents  \n",
    "`cd`      - change the working directory  \n",
    "`pwd`     - print name of current/working directory  \n",
    "`mkdir`   - make directories  \n",
    "`touch`   - change file timestamps  \n",
    "`ip a`    - show / manipulate routing, devices, policy routing and tunnels  \n",
    "`cat`     - concatenate files and print on the standard output  \n",
    "`history` - GNU History Library  "
   ]
  },
  {
   "cell_type": "markdown",
   "metadata": {},
   "source": [
    "`man`     - an interface to the on-line reference manuals"
   ]
  },
  {
   "cell_type": "markdown",
   "metadata": {},
   "source": [
    "## The Bourne Shell"
   ]
  },
  {
   "cell_type": "markdown",
   "metadata": {},
   "source": [
    "### Shell VS Terminal"
   ]
  },
  {
   "cell_type": "markdown",
   "metadata": {},
   "source": [
    "`/bin/sh` - Bourne Shell  \n",
    "`/bin/bash` - Bourne Again Shell  "
   ]
  },
  {
   "cell_type": "markdown",
   "metadata": {},
   "source": [
    "- A shell is a command-line interpreter and typical operations performed by shell scripts include file manipulation, program execution, and printing text.  \n",
    "- A terminal is a program that opens a window and lets you interact with the shell.  \n",
    "- A prompt is a special character that indicates you are ready to type a command. `name@host: path $`  "
   ]
  },
  {
   "cell_type": "markdown",
   "metadata": {},
   "source": [
    "### Standard Streams"
   ]
  },
  {
   "cell_type": "markdown",
   "metadata": {},
   "source": [
    "- Unix processes use I/O streams to andd write data  \n",
    "- Input streams sources are like keyboards, terminal, device, files, output stream from other process, etc.  \n",
    "- Unix processes have three standard streams:  \n",
    "    * `STDIN (0)` - Standard Input (Keyboard, File, etc.)  \n",
    "    * `STDOUT (1)` - Standard Output  (Terminal, File, etc.)\n",
    "    * `STDERR (2)` - Standard Error (Terminal, File, etc.)\n",
    "- Example `cat`\n"
   ]
  },
  {
   "cell_type": "markdown",
   "metadata": {},
   "source": [
    "- CTRL-D - stops the input stream and sends an EOF (End of File) character to the process  \n",
    "- CTRL-C - sends an INT (Interrupt) signal to the process (i.e. kills the process)  "
   ]
  },
  {
   "cell_type": "markdown",
   "metadata": {},
   "source": [
    "## File Management"
   ]
  },
  {
   "cell_type": "markdown",
   "metadata": {},
   "source": [
    "**[Filesystem Hierarchy Standard](https://refspecs.linuxfoundation.org/FHS_3.0/fhs/index.html)**"
   ]
  },
  {
   "cell_type": "markdown",
   "metadata": {},
   "source": [
    "![FHS](images/fhs.jpeg)"
   ]
  },
  {
   "cell_type": "raw",
   "metadata": {},
   "source": [
    "`/`         - Root  \n",
    "`/bin`      - Essential user command binaries (for use by all users)  \n",
    "`/boot`     - Static files of the boot loader  \n",
    "`/dev`      - Device files  \n",
    "`/etc`      - Host-specific system configuration  \n",
    "`/home`     - User home directories (optional)  \n",
    "`/lib`      - Essential shared libraries and kernel modules  \n",
    "`/media`    - Mount point for removable media  \n",
    "`/mnt`      - Mount point for mounting a filesystem temporarily  \n",
    "`/opt`      - Add-on application software packages  \n",
    "`/proc`     - Virtual filesystem providing process and kernel information as files  \n",
    "`/root`     - Home directory for the root user (optional)  \n",
    "`/run`      - Data relevant to running processes  \n",
    "`/sbin`     - Essential system binaries  \n",
    "`/srv`      - Data for services provided by this system  \n",
    "`/tmp`      - Temporary files  \n",
    "`/usr`      - Secondary hierarchy  \n",
    "`/var`      - Variable data  \n"
   ]
  },
  {
   "cell_type": "markdown",
   "metadata": {},
   "source": [
    "`man hier` - Filesystem Hierarchy Standard"
   ]
  },
  {
   "cell_type": "markdown",
   "metadata": {},
   "source": []
  },
  {
   "cell_type": "markdown",
   "metadata": {},
   "source": [
    "### Navigating the Filesystem\n"
   ]
  },
  {
   "cell_type": "markdown",
   "metadata": {},
   "source": [
    "`cd` - change the working directory  \n",
    "`mkdir` - make directories  \n",
    "`rmdir` - remove empty directories  \n"
   ]
  },
  {
   "cell_type": "markdown",
   "metadata": {},
   "source": [
    "**Shell Globbing (Wildcards)**  \n"
   ]
  },
  {
   "cell_type": "markdown",
   "metadata": {},
   "source": []
  }
 ],
 "metadata": {
  "language_info": {
   "name": "python"
  },
  "orig_nbformat": 4
 },
 "nbformat": 4,
 "nbformat_minor": 2
}
