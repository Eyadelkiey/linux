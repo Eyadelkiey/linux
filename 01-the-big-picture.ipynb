{
 "cells": [
  {
   "cell_type": "markdown",
   "metadata": {},
   "source": [
    "![images/LINUX-LOGO.png](images/LINUX-LOGO.png)"
   ]
  },
  {
   "cell_type": "markdown",
   "metadata": {},
   "source": [
    "**[Linux Wikipedia](https://en.wikipedia.org/wiki/Linux)**"
   ]
  },
  {
   "cell_type": "markdown",
   "metadata": {},
   "source": [
    "linux is a family of open source Unix-like operating systems based on the Linux kernel, an operating system kernel first released on September 17, 1991, by Linus Torvalds. Linux is typically packaged in a Linux distribution."
   ]
  },
  {
   "cell_type": "code",
   "execution_count": null,
   "metadata": {
    "vscode": {
     "languageId": "plaintext"
    }
   },
   "outputs": [],
   "source": [
    "- Unix was developed at MIT (Bell Labs and GE) in the mid 60s and was published in the earyl 70s\n",
    "- First written in Assembly language then was rewritten in C (Dennis Ritchie)\n",
    "- In 1983 Richard Stallman announced the GNU project\n",
    "- in 1991 Linus Torvalds released Linux Kernel as free software under GNU GPL\n"
   ]
  },
  {
   "cell_type": "markdown",
   "metadata": {},
   "source": [
    "# Linux Essentials"
   ]
  },
  {
   "cell_type": "markdown",
   "metadata": {},
   "source": [
    "## Installing Linux"
   ]
  },
  {
   "cell_type": "markdown",
   "metadata": {},
   "source": []
  },
  {
   "cell_type": "markdown",
   "metadata": {},
   "source": []
  },
  {
   "cell_type": "markdown",
   "metadata": {},
   "source": []
  },
  {
   "cell_type": "markdown",
   "metadata": {},
   "source": []
  }
 ],
 "metadata": {
  "language_info": {
   "name": "python"
  },
  "orig_nbformat": 4
 },
 "nbformat": 4,
 "nbformat_minor": 2
}
